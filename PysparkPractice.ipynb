{
 "cells": [
  {
   "cell_type": "code",
   "execution_count": 3,
   "id": "a95a7f3d",
   "metadata": {},
   "outputs": [],
   "source": [
    "from pyspark.sql import SparkSession\n",
    "from pyspark import SparkContext"
   ]
  },
  {
   "cell_type": "code",
   "execution_count": 4,
   "id": "bc8d2318",
   "metadata": {},
   "outputs": [
    {
     "name": "stderr",
     "output_type": "stream",
     "text": [
      "Setting default log level to \"WARN\".\n",
      "To adjust logging level use sc.setLogLevel(newLevel). For SparkR, use setLogLevel(newLevel).\n"
     ]
    },
    {
     "name": "stdout",
     "output_type": "stream",
     "text": [
      "22/08/20 14:11:07 WARN NativeCodeLoader: Unable to load native-hadoop library for your platform... using builtin-java classes where applicable\n"
     ]
    }
   ],
   "source": [
    "spark = SparkSession.builder.appName(\"PysparkWorking\").getOrCreate()"
   ]
  },
  {
   "cell_type": "code",
   "execution_count": 5,
   "id": "cfdc37ec",
   "metadata": {},
   "outputs": [],
   "source": [
    "sc=spark.sparkContext"
   ]
  },
  {
   "cell_type": "code",
   "execution_count": 6,
   "id": "8bb9e031",
   "metadata": {},
   "outputs": [],
   "source": [
    "rdd=sc.parallelize([1,2,3,4,5,6,7,8,9],1)"
   ]
  },
  {
   "cell_type": "code",
   "execution_count": 7,
   "id": "308b4941",
   "metadata": {},
   "outputs": [
    {
     "name": "stdout",
     "output_type": "stream",
     "text": [
      "1\n"
     ]
    }
   ],
   "source": [
    "print(rdd.getNumPartitions())"
   ]
  },
  {
   "cell_type": "code",
   "execution_count": 8,
   "id": "adb5c116",
   "metadata": {},
   "outputs": [
    {
     "name": "stderr",
     "output_type": "stream",
     "text": [
      "                                                                                \r"
     ]
    },
    {
     "data": {
      "text/plain": [
       "1"
      ]
     },
     "execution_count": 8,
     "metadata": {},
     "output_type": "execute_result"
    }
   ],
   "source": [
    "rdd.first()"
   ]
  },
  {
   "cell_type": "code",
   "execution_count": 10,
   "id": "b5a5354d",
   "metadata": {},
   "outputs": [],
   "source": [
    "emptyrdd=sc.emptyRDD()"
   ]
  },
  {
   "cell_type": "code",
   "execution_count": 12,
   "id": "a06af2c6",
   "metadata": {},
   "outputs": [],
   "source": [
    "rdd.saveAsTextFile('name2.csv')"
   ]
  },
  {
   "cell_type": "code",
   "execution_count": 13,
   "id": "4adcfd59",
   "metadata": {},
   "outputs": [
    {
     "data": {
      "text/plain": [
       "DataFrame[id: bigint]"
      ]
     },
     "execution_count": 13,
     "metadata": {},
     "output_type": "execute_result"
    }
   ],
   "source": [
    "spark.range(0,20)"
   ]
  },
  {
   "cell_type": "code",
   "execution_count": 14,
   "id": "9c4545e2",
   "metadata": {},
   "outputs": [
    {
     "data": {
      "text/plain": [
       "<pyspark.broadcast.Broadcast at 0x7efd0c4608e0>"
      ]
     },
     "execution_count": 14,
     "metadata": {},
     "output_type": "execute_result"
    }
   ],
   "source": [
    "#broadcast variable\n",
    "sc.broadcast([0,1,2,3,4])"
   ]
  },
  {
   "cell_type": "code",
   "execution_count": 15,
   "id": "1939986b",
   "metadata": {},
   "outputs": [
    {
     "name": "stdout",
     "output_type": "stream",
     "text": [
      "+-------+--------+-----+-----------+\n",
      "|  FName|   SName|Cntry|      State|\n",
      "+-------+--------+-----+-----------+\n",
      "|  James|   Smith|  USA|Californioa|\n",
      "|Michael|    Rose|  USA|   New York|\n",
      "| Robert|Williams|  USA|Californioa|\n",
      "|  Maria|   Jones|  USA|    Florida|\n",
      "+-------+--------+-----+-----------+\n",
      "\n"
     ]
    },
    {
     "data": {
      "text/plain": [
       "[('James', 'Smith', 'USA', 'Californioa'),\n",
       " ('Michael', 'Rose', 'USA', 'New York'),\n",
       " ('Robert', 'Williams', 'USA', 'Californioa'),\n",
       " ('Maria', 'Jones', 'USA', 'Florida')]"
      ]
     },
     "execution_count": 15,
     "metadata": {},
     "output_type": "execute_result"
    }
   ],
   "source": [
    "states = {\"NY\":\"New York\", \"CA\":\"Californioa\", \"FL\":\"Florida\"}\n",
    "\n",
    "brodcaststate = spark.sparkContext.broadcast(states)\n",
    "\n",
    "data = [(\"James\",\"Smith\",\"USA\",\"CA\"),\n",
    "     (\"Michael\",\"Rose\",\"USA\",\"NY\"),\n",
    "     (\"Robert\",\"Williams\",\"USA\",\"CA\"),\n",
    "     (\"Maria\",\"Jones\",\"USA\",\"FL\")]\n",
    "      \n",
    "rdd = spark.sparkContext.parallelize(data)\n",
    "\n",
    "def state_name(code):\n",
    "    return brodcaststate.value[code]\n",
    "\n",
    "rdd.map(lambda x: (x[0],x[1],x[2],state_name(x[3]))).toDF([\"FName\",\"SName\",\"Cntry\",\"State\"]).show()\n",
    "rdd.map(lambda x: (x[0],x[1],x[2],state_name(x[3]))).collect()"
   ]
  },
  {
   "cell_type": "code",
   "execution_count": 29,
   "id": "e55564e8",
   "metadata": {},
   "outputs": [],
   "source": [
    "#read text file\n",
    "raw_content=sc.textFile('2015-12-12.csv')"
   ]
  },
  {
   "cell_type": "code",
   "execution_count": 31,
   "id": "d0ed8a4c",
   "metadata": {},
   "outputs": [
    {
     "data": {
      "text/plain": [
       "421970"
      ]
     },
     "execution_count": 31,
     "metadata": {},
     "output_type": "execute_result"
    }
   ],
   "source": [
    "raw_content.count()"
   ]
  },
  {
   "cell_type": "code",
   "execution_count": 36,
   "id": "79953a19",
   "metadata": {},
   "outputs": [
    {
     "data": {
      "text/plain": [
       "['\"date\",\"time\",\"size\",\"r_version\",\"r_arch\",\"r_os\",\"package\",\"version\",\"country\",\"ip_id\"',\n",
       " '\"2015-12-12\",\"13:42:10\",257886,\"3.2.2\",\"i386\",\"mingw32\",\"HistData\",\"0.7-6\",\"CZ\",1',\n",
       " '\"2015-12-12\",\"13:24:37\",1236751,\"3.2.2\",\"x86_64\",\"mingw32\",\"RJSONIO\",\"1.3-0\",\"DE\",2',\n",
       " '\"2015-12-12\",\"13:42:35\",2077876,\"3.2.2\",\"i386\",\"mingw32\",\"UsingR\",\"2.0-5\",\"CZ\",1',\n",
       " '\"2015-12-12\",\"13:42:01\",266724,\"3.2.2\",\"i386\",\"mingw32\",\"gridExtra\",\"2.0.0\",\"CZ\",1']"
      ]
     },
     "execution_count": 36,
     "metadata": {},
     "output_type": "execute_result"
    }
   ],
   "source": [
    "#return first 'n' records\n",
    "raw_content.take(5)"
   ]
  },
  {
   "cell_type": "code",
   "execution_count": 46,
   "id": "50a764b2",
   "metadata": {},
   "outputs": [
    {
     "data": {
      "text/plain": [
       "[['\"date\"',\n",
       "  '\"time\"',\n",
       "  '\"size\"',\n",
       "  '\"r_version\"',\n",
       "  '\"r_arch\"',\n",
       "  '\"r_os\"',\n",
       "  '\"package\"',\n",
       "  '\"version\"',\n",
       "  '\"country\"',\n",
       "  '\"ip_id\"']]"
      ]
     },
     "execution_count": 46,
     "metadata": {},
     "output_type": "execute_result"
    }
   ],
   "source": [
    "#map\n",
    "content=raw_content.map(lambda x: x.split(\",\"))\n",
    "content.take(1)"
   ]
  },
  {
   "cell_type": "code",
   "execution_count": 49,
   "id": "3a7a80b4",
   "metadata": {},
   "outputs": [
    {
     "data": {
      "text/plain": [
       "[['date',\n",
       "  'time',\n",
       "  'size',\n",
       "  'r_version',\n",
       "  'r_arch',\n",
       "  'r_os',\n",
       "  'package',\n",
       "  'version',\n",
       "  'country',\n",
       "  'ip_id']]"
      ]
     },
     "execution_count": 49,
     "metadata": {},
     "output_type": "execute_result"
    }
   ],
   "source": [
    "#python fucntion to remove the \"\"\n",
    "\n",
    "def clean(x):\n",
    "    return ([y.replace(\"\\\"\",\"\") for y in x])\n",
    "\n",
    "content1=content.map(clean)\n",
    "content1.take(1)"
   ]
  },
  {
   "cell_type": "code",
   "execution_count": null,
   "id": "f4017b85",
   "metadata": {},
   "outputs": [],
   "source": []
  }
 ],
 "metadata": {
  "kernelspec": {
   "display_name": "Python 3 (ipykernel)",
   "language": "python",
   "name": "python3"
  },
  "language_info": {
   "codemirror_mode": {
    "name": "ipython",
    "version": 3
   },
   "file_extension": ".py",
   "mimetype": "text/x-python",
   "name": "python",
   "nbconvert_exporter": "python",
   "pygments_lexer": "ipython3",
   "version": "3.10.4"
  }
 },
 "nbformat": 4,
 "nbformat_minor": 5
}
